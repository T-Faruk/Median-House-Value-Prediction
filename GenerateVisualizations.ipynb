{
 "cells": [
  {
   "cell_type": "markdown",
   "id": "d558ffda",
   "metadata": {},
   "source": [
    "# ECE 143 Group 1:California Housing Crisis Visualizations\n",
    "### Madhumitha Karri, Tashdeed Faruk, Uday Varikuti, Weihua Zhao, Cameron Lewis\n",
    "This notebook is showing how to generate the visualizations in our presentation.\n",
    "\n",
    "Requires outside libraries:\n",
    "<ul>\n",
    "    <li>General</li>\n",
    "    <ul>\n",
    "        <li>Pandas</li>\n",
    "        <li>Numpy</li>\n",
    "    </ul>\n",
    "    <li>Visualizations</li>\n",
    "        <ul>\n",
    "            <li>Folium</li>\n",
    "            <li>Geopy</li>\n",
    "            <li>pickle</li>\n",
    "            <li>Seaborn</li>\n",
    "            <li>sklearn</li>\n",
    "            <li></li>\n",
    "        </ul>\n",
    "    <li>Model</li>\n",
    "    <ul>\n",
    "        <li>matplotlib</li>\n",
    "        <li>scipy</li>\n",
    "        <li>sklearn</li>\n",
    "        <li>pickle</li>\n",
    "        <li>joblib</li>\n",
    "        <li>sklearn</li>\n",
    "        <li>statsmodels</li>\n",
    "    </ul>\n",
    "    \n",
    "</ul>\n",
    "\n",
    "Must have the following data saved in the current directory\n",
    "<ul>\n",
    "    <li>\"./data/zillowHousing/clean_data_2016.csv\"</li>\n",
    "        <ul>\n",
    "            <li>Zillow data used for most map visualizations</li>\n",
    "        </ul>\n",
    "    <li>\"./datastories_table.csv\"</li>\n",
    "        <ul>\n",
    "            <li>Contains model infered data by zipcode</li>\n",
    "        </ul>\n",
    "    <li>\"./zipcode_mapping.pickle\"</li>\n",
    "        <ul>\n",
    "            <li>Used to map zillow internal fake zipcodes to real life zipcodes. Genreated via geopy</li>\n",
    "        </ul>\n",
    "</ul>"
   ]
  },
  {
   "cell_type": "code",
   "execution_count": null,
   "id": "245be9c5",
   "metadata": {},
   "outputs": [],
   "source": [
    "import exampleMap\n",
    "import bedroomCountMaps\n",
    "import severityMaps"
   ]
  },
  {
   "cell_type": "code",
   "execution_count": null,
   "id": "c450cb46",
   "metadata": {},
   "outputs": [],
   "source": [
    "exampleMap.makeMap(5, 95, \"House_Values_5.html\")"
   ]
  },
  {
   "cell_type": "code",
   "execution_count": null,
   "id": "cf1de584",
   "metadata": {},
   "outputs": [],
   "source": [
    "bedroomCountMaps.makeMap(lower=5,upper=95,mapName=\"BedroomCount_5.html\")"
   ]
  },
  {
   "cell_type": "code",
   "execution_count": null,
   "id": "22c8125f",
   "metadata": {},
   "outputs": [],
   "source": [
    "severityMaps.makeMap(lower=5,upper=95,mapName=\"HousingSeverity_5.html\")"
   ]
  }
 ],
 "metadata": {
  "kernelspec": {
   "display_name": "Python 3 (ipykernel)",
   "language": "python",
   "name": "python3"
  },
  "language_info": {
   "codemirror_mode": {
    "name": "ipython",
    "version": 3
   },
   "file_extension": ".py",
   "mimetype": "text/x-python",
   "name": "python",
   "nbconvert_exporter": "python",
   "pygments_lexer": "ipython3",
   "version": "3.8.12"
  }
 },
 "nbformat": 4,
 "nbformat_minor": 5
}
